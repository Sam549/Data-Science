{
 "cells": [
  {
   "cell_type": "markdown",
   "metadata": {},
   "source": [
    "# #Question 1\n"
   ]
  },
  {
   "cell_type": "code",
   "execution_count": 14,
   "metadata": {},
   "outputs": [
    {
     "name": "stdout",
     "output_type": "stream",
     "text": [
      "[ 2  5  8 11 14 17 20 23 26 29 32 35 38 41 44 47 50]\n",
      "<class 'numpy.ndarray'>\n"
     ]
    }
   ],
   "source": [
    "import numpy as np\n",
    "array=np.arange(2,51,3)\n",
    "print(array)\n",
    "print(type(array))"
   ]
  },
  {
   "cell_type": "markdown",
   "metadata": {},
   "source": [
    "# Question 2"
   ]
  },
  {
   "cell_type": "code",
   "execution_count": 33,
   "metadata": {},
   "outputs": [
    {
     "name": "stdout",
     "output_type": "stream",
     "text": [
      "Enter elements for list1: 1\n",
      "Enter elements for list2: 5\n",
      "Enter elements for list1: 7\n",
      "Enter elements for list2: 6\n",
      "Enter elements for list1: 9\n",
      "Enter elements for list2: 84\n",
      "Enter elements for list1: 35\n",
      "Enter elements for list2: 987\n",
      "Enter elements for list1: 26\n",
      "Enter elements for list2: 59\n",
      "[   6   13   93 1022   85]\n",
      "[   6   13   85   93 1022]\n",
      "[ 1  7  9 35 26]\n",
      "<class 'numpy.ndarray'>\n",
      "[  5   6  84 987  59]\n",
      "<class 'numpy.ndarray'>\n"
     ]
    }
   ],
   "source": [
    "import numpy as np\n",
    "lst=[]\n",
    "lst2=[]\n",
    "for i in range(5):\n",
    "    n1=int(input(\"Enter elements for list1: \"))\n",
    "    lst.append(n1)\n",
    "    n2=int(input(\"Enter elements for list2: \"))\n",
    "    lst2.append(n2)\n",
    "lst=np.array(lst)\n",
    "lst2=np.array(lst2)\n",
    "a=lst+lst2\n",
    "print(a)\n",
    "print(numpy.sort(a))\n",
    "print(lst)\n",
    "print(type(lst))\n",
    "print(lst2)\n",
    "print(type(lst2))"
   ]
  },
  {
   "cell_type": "markdown",
   "metadata": {},
   "source": [
    "# Question 3"
   ]
  },
  {
   "cell_type": "code",
   "execution_count": 35,
   "metadata": {},
   "outputs": [
    {
     "name": "stdout",
     "output_type": "stream",
     "text": [
      "2\n",
      "(2, 4)\n",
      "[[1 2 3 4]\n",
      " [9 8 7 6]]\n"
     ]
    }
   ],
   "source": [
    "array=np.array([[1,2,3,4],[9,8,7,6]])\n",
    "print(array.ndim)\n",
    "print(array.shape)\n",
    "print(array)"
   ]
  },
  {
   "cell_type": "markdown",
   "metadata": {},
   "source": [
    "# Question 4"
   ]
  },
  {
   "cell_type": "code",
   "execution_count": 38,
   "metadata": {},
   "outputs": [
    {
     "name": "stdout",
     "output_type": "stream",
     "text": [
      "[[1]\n",
      " [2]\n",
      " [3]\n",
      " [4]]\n",
      "<class 'numpy.ndarray'>\n",
      "2\n"
     ]
    }
   ],
   "source": [
    "import numpy as np\n",
    "arr=np.expand_dims([1,2,3,4],axis=1)\n",
    "print(arr)\n",
    "print(type(arr))\n",
    "print(arr.ndim)"
   ]
  },
  {
   "cell_type": "markdown",
   "metadata": {},
   "source": [
    "## Question 5"
   ]
  },
  {
   "cell_type": "code",
   "execution_count": 25,
   "metadata": {},
   "outputs": [
    {
     "name": "stdout",
     "output_type": "stream",
     "text": [
      "[[ 1  4  9]\n",
      " [16 25 36]] \n",
      " [[4356  225   16]\n",
      " [1156    4  324]]\n",
      "<class 'numpy.ndarray'>\n",
      "[[ 1  4  9]\n",
      " [16 25 36]]\n",
      "[ 1  4  9 16 25 36]\n"
     ]
    }
   ],
   "source": [
    "import numpy\n",
    "square1=numpy.array([[1,2,3],[4,5,6]])\n",
    "square2=numpy.array([[66,15,4],[34,2,18]])\n",
    "square1=numpy.square(square1)\n",
    "square2=numpy.square(square2)\n",
    "print(square1,\"\\n\",square2)\n",
    "print(type(square1))\n",
    "square=numpy.vstack(square1)\n",
    "squares=numpy.hstack(square1)\n",
    "print(square)\n",
    "print(squares)\n",
    "#Similarily with square2"
   ]
  },
  {
   "cell_type": "markdown",
   "metadata": {},
   "source": [
    "# Question 6"
   ]
  },
  {
   "cell_type": "code",
   "execution_count": 29,
   "metadata": {},
   "outputs": [
    {
     "name": "stdout",
     "output_type": "stream",
     "text": [
      "<StringArray>\n",
      "['apple', 'orange', 'mango', 'banana', 'kiwi', 'grapes']\n",
      "Length: 6, dtype: string\n",
      "mango     2\n",
      "apple     2\n",
      "orange    2\n",
      "banana    1\n",
      "kiwi      1\n",
      "grapes    1\n",
      "dtype: Int64\n"
     ]
    }
   ],
   "source": [
    "import numpy\n",
    "import pandas\n",
    "fruits=pandas.array([\"apple\",\"orange\",\"mango\",\"banana\",\"kiwi\",\"mango\",\"orange\",\"apple\",\"grapes\"])\n",
    "print(fruits.unique())\n",
    "print(fruits.value_counts())"
   ]
  },
  {
   "cell_type": "code",
   "execution_count": null,
   "metadata": {},
   "outputs": [],
   "source": []
  }
 ],
 "metadata": {
  "kernelspec": {
   "display_name": "Python 3",
   "language": "python",
   "name": "python3"
  },
  "language_info": {
   "codemirror_mode": {
    "name": "ipython",
    "version": 3
   },
   "file_extension": ".py",
   "mimetype": "text/x-python",
   "name": "python",
   "nbconvert_exporter": "python",
   "pygments_lexer": "ipython3",
   "version": "3.8.3"
  }
 },
 "nbformat": 4,
 "nbformat_minor": 4
}
